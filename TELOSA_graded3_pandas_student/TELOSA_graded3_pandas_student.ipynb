{
 "cells": [
  {
   "cell_type": "markdown",
   "id": "003aa7c7-b4f3-4903-a58b-6e21bb7aacee",
   "metadata": {},
   "source": [
    "# Preliminary Information"
   ]
  },
  {
   "cell_type": "markdown",
   "id": "0ab69eb3-c7d1-44ec-b929-c5b675c65906",
   "metadata": {},
   "source": [
    "### Name: TELOSA, Arwyn Gabrielle A."
   ]
  },
  {
   "cell_type": "markdown",
   "id": "1015291d-1c78-4d41-9530-38b21ca314f7",
   "metadata": {},
   "source": [
    "### Course: BSCS Major in Network and Information Security (NIS)"
   ]
  },
  {
   "cell_type": "code",
   "execution_count": null,
   "id": "a84b073d-2988-4aff-865d-3eb120c4e26c",
   "metadata": {},
   "outputs": [],
   "source": []
  },
  {
   "cell_type": "markdown",
   "id": "174e376c",
   "metadata": {
    "id": "174e376c"
   },
   "source": [
    "# Zomato Exercise"
   ]
  },
  {
   "cell_type": "markdown",
   "id": "2d84fdf3",
   "metadata": {
    "id": "2d84fdf3"
   },
   "source": [
    "Zomato is a restaurant aggregator website. The platform provides information, menus and user-reviews of restaurants as well as food delivery options from partner restaurants in select cities. You have been provided 3 datasets:\n",
    "\n",
    "- zomato.csv contains restaurant information like average_cost_for_two, cuisines\n",
    "- location.csv contains location of the restaurants like address, city, locality & etc\n",
    "- ratings.csv contains aggregate rating for each restaurant\n",
    "\n",
    "The different files are connected using the `id` columns which can be found in the different files. The id column is a unique identifier to represent a restaurant. You can use this to **merge** the different files."
   ]
  },
  {
   "cell_type": "code",
   "execution_count": null,
   "id": "5337de5f",
   "metadata": {
    "id": "5337de5f"
   },
   "outputs": [],
   "source": [
    "import pandas as pd\n",
    "import numpy as np"
   ]
  },
  {
   "cell_type": "markdown",
   "id": "77605fbc",
   "metadata": {
    "id": "77605fbc"
   },
   "source": [
    "1. Merge the zomato, location & ratings file into a signle dataframe and store it to the `merged_df` variable **(3pts)**"
   ]
  },
  {
   "cell_type": "code",
   "execution_count": null,
   "id": "dbc5a7dd-70e4-470d-8a9f-819c3dae6607",
   "metadata": {},
   "outputs": [],
   "source": [
    "zomato_df = pd.read_csv('zomato.csv')"
   ]
  },
  {
   "cell_type": "code",
   "execution_count": null,
   "id": "58d085b5-ebd3-451b-8d20-1a2a72f7e74c",
   "metadata": {},
   "outputs": [],
   "source": [
    "location_df = pd.read_csv('location.csv')"
   ]
  },
  {
   "cell_type": "code",
   "execution_count": null,
   "id": "a0619ae4-06b5-4dfb-a152-a3429249b174",
   "metadata": {},
   "outputs": [],
   "source": [
    "ratings_df = pd.read_csv('ratings.csv')"
   ]
  },
  {
   "cell_type": "code",
   "execution_count": null,
   "id": "ddbd0bb1",
   "metadata": {
    "id": "ddbd0bb1"
   },
   "outputs": [],
   "source": [
    "merged_df = pd.merge(zomato_df, location_df, on='id') \n",
    "merged_df = pd.merge(merged_df, ratings_df, on='id') "
   ]
  },
  {
   "cell_type": "code",
   "execution_count": null,
   "id": "b2a86a44",
   "metadata": {
    "id": "b2a86a44"
   },
   "outputs": [],
   "source": [
    "assert (6830, 35)==merged_df.shape\n",
    "\n",
    "cols = ['id', 'address', 'city', 'city_id', 'country_id', 'latitude',\n",
    "       'locality', 'locality_verbose', 'longitude', 'zipcode',\n",
    "       'aggregate_rating', 'rating_color', 'rating_text', 'votes',\n",
    "       'average_cost_for_two', 'book_url', 'cuisines', 'currency', 'deeplink',\n",
    "       'events_url', 'featured_image', 'has_online_delivery',\n",
    "       'has_table_booking', 'include_bogo_offers', 'is_book_form_web_view',\n",
    "       'is_delivering_now', 'is_table_reservation_supported',\n",
    "       'is_zomato_book_res', 'menu_url', 'mezzo_provider', 'name',\n",
    "       'photos_url', 'price_range', 'thumb', 'url']\n",
    "\n",
    "assert sorted(merged_df.columns) == sorted(cols)"
   ]
  },
  {
   "cell_type": "markdown",
   "id": "02223abe",
   "metadata": {
    "id": "02223abe"
   },
   "source": [
    "2. Create a function that returns the average aggregate rating for each city. Expected returned value is a Series datatype which contains name of city as index and average aggregate rating as value. **(2pts)**"
   ]
  },
  {
   "cell_type": "code",
   "execution_count": null,
   "id": "bd7d8f34",
   "metadata": {
    "id": "bd7d8f34"
   },
   "outputs": [],
   "source": [
    "def exercise_2(merged_df):\n",
    "    average_ratings = merged_df.groupby('city')['aggregate_rating'].mean() \n",
    "    return average_ratings"
   ]
  },
  {
   "cell_type": "code",
   "execution_count": null,
   "id": "10e5b4c1",
   "metadata": {
    "id": "10e5b4c1"
   },
   "outputs": [],
   "source": [
    "res_series = exercise_2(merged_df)\n",
    "assert True == np.isclose(3.302075, res_series[res_series.index == 'Pasay City'],\n",
    "                          rtol=1e-05, atol=1e-08, equal_nan=False)[0]\n",
    "assert True == np.isclose(1.890741, res_series[res_series.index == 'Valenzuela City'],\n",
    "                          rtol=1e-05, atol=1e-08, equal_nan=False)[0]\n",
    "assert True == np.isclose(1.558333, res_series[res_series.index == 'Malabon City'],\n",
    "                          rtol=1e-05, atol=1e-08, equal_nan=False)[0]"
   ]
  },
  {
   "cell_type": "markdown",
   "id": "5db591ac",
   "metadata": {
    "id": "5db591ac"
   },
   "source": [
    "3. Using the apply function of pandas convert the rating_text to a numeric equivalent. You are to introduce a new column in merged_df called `rating_numeric` which is based on the value from rating_text: **(3pts)**\n",
    "\n",
    "Excellent = 5 <br>\n",
    "Very Good = 4 <br>\n",
    "Good = 3 <br>\n",
    "Average = 2 <br>\n",
    "Poor = 1 <br>\n",
    "Not rated = 0 <br>"
   ]
  },
  {
   "cell_type": "code",
   "execution_count": null,
   "id": "41293771",
   "metadata": {
    "id": "41293771"
   },
   "outputs": [],
   "source": [
    "def rating_to_numeric(rating):\n",
    "    if rating == 'Excellent':\n",
    "        return 5\n",
    "    elif rating == 'Very Good':\n",
    "        return 4\n",
    "    elif rating == 'Good':\n",
    "        return 3\n",
    "    elif rating == 'Average':\n",
    "        return 2\n",
    "    elif rating == 'Poor':\n",
    "        return 1\n",
    "    elif rating == 'Not rated':\n",
    "        return 0\n",
    "    else:\n",
    "        return None  \n",
    "\n",
    "merged_df['rating_numeric'] = merged_df['rating_text'].apply(rating_to_numeric)"
   ]
  },
  {
   "cell_type": "code",
   "execution_count": null,
   "id": "c62df922",
   "metadata": {
    "id": "c62df922"
   },
   "outputs": [],
   "source": [
    "assert 868 == merged_df[merged_df.rating_numeric == 0].shape[0]\n",
    "assert True == ('rating_numeric' in merged_df.columns)"
   ]
  },
  {
   "cell_type": "markdown",
   "id": "97ec4197",
   "metadata": {
    "id": "97ec4197"
   },
   "source": [
    "4. Create a function which filters the merged dataframe to only contain rows coming in from a specific city. Expected returned value is a dataframe **(2pts)**"
   ]
  },
  {
   "cell_type": "code",
   "execution_count": null,
   "id": "9773b18e",
   "metadata": {
    "id": "9773b18e"
   },
   "outputs": [],
   "source": [
    "def exercise_4(merged_df, city):\n",
    "    filtered_df = merged_df[merged_df['city'] == city].copy()\n",
    "    return filtered_df"
   ]
  },
  {
   "cell_type": "code",
   "execution_count": null,
   "id": "1ca29a81",
   "metadata": {
    "id": "1ca29a81"
   },
   "outputs": [],
   "source": [
    "assert 'Makati City' == exercise_4(merged_df, 'Makati City').city.unique()[0]\n",
    "assert (976, 36) == exercise_4(merged_df, 'Makati City').shape\n",
    "\n",
    "assert 'Mandaluyong City' == exercise_4(merged_df, 'Mandaluyong City').city.unique()[0]\n",
    "assert (443, 36) == exercise_4(merged_df, 'Mandaluyong City').shape\n",
    "\n",
    "assert (0, 36) == exercise_4(merged_df, 'Quezon  City').shape"
   ]
  },
  {
   "cell_type": "markdown",
   "id": "ca7bf3c1",
   "metadata": {
    "id": "ca7bf3c1"
   },
   "source": [
    "5. Create a function to filter the dataframe to only contain certain columns passed in the function. Expected returned value is a dataframe **(1pt)**"
   ]
  },
  {
   "cell_type": "code",
   "execution_count": null,
   "id": "59787577",
   "metadata": {
    "id": "59787577"
   },
   "outputs": [],
   "source": [
    "def exercise_5(merged_df, cols_to_filter):\n",
    "    filtered_df = merged_df[cols_to_filter].copy()\n",
    "    return filtered_df"
   ]
  },
  {
   "cell_type": "code",
   "execution_count": null,
   "id": "da27c054",
   "metadata": {
    "id": "da27c054"
   },
   "outputs": [],
   "source": [
    "cols = ['name', 'cuisines', 'city', 'aggregate_rating']\n",
    "assert sorted(cols) == sorted(exercise_5(merged_df, cols).columns)\n",
    "assert (6830, 4) == exercise_5(merged_df, cols).shape\n",
    "\n",
    "cols = ['average_cost_for_two', 'book_url', 'cuisines', 'currency', 'deeplink',\n",
    "       'events_url', 'featured_image', 'has_online_delivery',\n",
    "       'has_table_booking', 'include_bogo_offers', 'is_book_form_web_view']\n",
    "assert sorted(cols) == sorted(exercise_5(merged_df, cols).columns)\n",
    "assert (6830, 11) == exercise_5(merged_df, cols).shape\n"
   ]
  },
  {
   "cell_type": "markdown",
   "id": "d69c7e2e",
   "metadata": {
    "id": "d69c7e2e"
   },
   "source": [
    "6.  What is the most common restaurant name in the dataset? **(2pts)** Write down your answer and show code used to come up with the answer."
   ]
  },
  {
   "cell_type": "code",
   "execution_count": null,
   "id": "cf9cdab1",
   "metadata": {
    "id": "cf9cdab1"
   },
   "outputs": [],
   "source": [
    "most_common_name = merged_df['name'].value_counts().idxmax()\n",
    "count = merged_df['name'].value_counts().max()\n",
    "\n",
    "print(f\"Most Common Restaurant: {most_common_name}\")\n",
    "print(f\"Count: {count}\")"
   ]
  },
  {
   "cell_type": "markdown",
   "id": "7675b4b1",
   "metadata": {
    "id": "7675b4b1"
   },
   "source": [
    "7. Which restaurant has the most expensive average cost for two? **(2pts)** Write down your answer and show code used to come up with the answer."
   ]
  },
  {
   "cell_type": "code",
   "execution_count": null,
   "id": "b447b440",
   "metadata": {
    "id": "b447b440"
   },
   "outputs": [],
   "source": [
    "merged_df['average_cost_for_two'] = pd.to_numeric(merged_df['average_cost_for_two'], errors='coerce')\n",
    "\n",
    "merged_df = merged_df.dropna(subset=['average_cost_for_two'])\n",
    "\n",
    "max_cost = merged_df['average_cost_for_two'].max()\n",
    "\n",
    "most_expensive_restaurants = merged_df[merged_df['average_cost_for_two'] == max_cost]\n",
    "\n",
    "print(\"The restaurant(s) with the most expensive average cost for two:\")\n",
    "for index, row in most_expensive_restaurants.iterrows():\n",
    "    print(f\"Name: {row['name']}, Average Cost for Two: {row['average_cost_for_two']}\")"
   ]
  },
  {
   "cell_type": "markdown",
   "id": "af873fb7",
   "metadata": {
    "id": "af873fb7"
   },
   "source": [
    "8. How many restaurants do not have a zipcode? **(1pt)** Write down your answer and show code used to come up with the answer."
   ]
  },
  {
   "cell_type": "code",
   "execution_count": null,
   "id": "43f1234a",
   "metadata": {
    "id": "43f1234a"
   },
   "outputs": [],
   "source": [
    "num_no_zipcode = merged_df['zipcode'].isnull().sum()\n",
    "\n",
    "print(f\"Restaurants w/o Zip Code: {num_no_zipcode}\")"
   ]
  },
  {
   "cell_type": "markdown",
   "id": "9347ac03",
   "metadata": {
    "id": "9347ac03"
   },
   "source": [
    "9. How many restaurants in the dataset allow online delivery? **(1pt)** Write down your answer and show code used to come up with the answer."
   ]
  },
  {
   "cell_type": "code",
   "execution_count": null,
   "id": "24b62212",
   "metadata": {
    "id": "24b62212"
   },
   "outputs": [],
   "source": [
    "print(\"Unique values in 'has_online_delivery' column:\")\n",
    "print(merged_df['has_online_delivery'].unique())\n",
    "\n",
    "num_online_delivery = merged_df[merged_df['has_online_delivery'] == 1].shape[0]\n",
    "\n",
    "print(f\"\\nRestaurants  w/ Online Delivery: {num_online_delivery}\")"
   ]
  },
  {
   "cell_type": "markdown",
   "id": "7f2c7aa3",
   "metadata": {
    "id": "7f2c7aa3"
   },
   "source": [
    "10. Which locatlity has more expensive food? Poblacion or Salcedo Village? **(3pts)** Write down your answer and show code used to come up with the answer.\n"
   ]
  },
  {
   "cell_type": "code",
   "execution_count": null,
   "id": "8fb7ce16",
   "metadata": {
    "id": "8fb7ce16"
   },
   "outputs": [],
   "source": [
    "merged_df['average_cost_for_two'] = pd.to_numeric(merged_df['average_cost_for_two'], errors='coerce')\n",
    "\n",
    "merged_df = merged_df.dropna(subset=['average_cost_for_two', 'locality'])\n",
    "\n",
    "poblacion_df = merged_df[merged_df['locality'] == 'Poblacion']\n",
    "\n",
    "salcedo_df = merged_df[merged_df['locality'] == 'Salcedo Village']\n",
    "\n",
    "avg_cost_poblacion = poblacion_df['average_cost_for_two'].mean()\n",
    "avg_cost_salcedo = salcedo_df['average_cost_for_two'].mean()\n",
    "\n",
    "print(f\"Poblacion: {avg_cost_poblacion:.2f}\")\n",
    "print(f\"Salcedo Village: {avg_cost_salcedo:.2f}\")\n",
    "\n",
    "if avg_cost_poblacion > avg_cost_salcedo:\n",
    "    print(\"\\nPoblacion has more expensive food than Salcedo Village.\")\n",
    "elif avg_cost_poblacion < avg_cost_salcedo:\n",
    "    print(\"\\nSalcedo Village has more expensive food than Poblacion.\")\n",
    "else:\n",
    "    print(\"\\nBoth Poblacion and Salcedo Village have the same average cost for food.\")"
   ]
  },
  {
   "cell_type": "markdown",
   "id": "d82bfd44-bd8e-4cd4-8688-df217760afd3",
   "metadata": {
    "jp-MarkdownHeadingCollapsed": true
   },
   "source": [
    "# CODE EXPLANATIONS"
   ]
  },
  {
   "cell_type": "markdown",
   "id": "8cf2fdc6-9d47-4f41-8253-07ffb3f152f4",
   "metadata": {},
   "source": [
    "## Question 1"
   ]
  },
  {
   "cell_type": "markdown",
   "id": "422cc12e-5782-497f-b4be-54ea22fb2184",
   "metadata": {},
   "source": [
    "I started by reading the.csv files into their own data frames. Then I merged the zomato and location data frames on their id, and then the current merged data frame was merged to the ratings on their id."
   ]
  },
  {
   "cell_type": "markdown",
   "id": "9a4e3e7a-6b55-4892-9480-2e13c445cd3e",
   "metadata": {},
   "source": [
    "## Question 2"
   ]
  },
  {
   "cell_type": "markdown",
   "id": "0f8f1ac1-462f-46e0-9d55-1dffad7c4f01",
   "metadata": {},
   "source": [
    "To determine the average aggregate for each city, I grouped the ratings by city and took the mean."
   ]
  },
  {
   "cell_type": "markdown",
   "id": "f6572e10-af64-4174-a924-7de26f1b9a5a",
   "metadata": {},
   "source": [
    "## Question 3"
   ]
  },
  {
   "cell_type": "markdown",
   "id": "997aa6c4-a4fc-462b-926c-0db11d20de27",
   "metadata": {},
   "source": [
    "The function I built translates textual ratings (e.g., Excellent, Very Good) into the values listed above. It then applies the method to the combined data frame's rating_text column, resulting in a new column called rating_numeric with the converted values."
   ]
  },
  {
   "cell_type": "markdown",
   "id": "2ba0944b-0f16-441f-9fed-f8adc12d9554",
   "metadata": {},
   "source": [
    "## Question 4"
   ]
  },
  {
   "cell_type": "markdown",
   "id": "7ea14e5d-bf2c-4d7b-b5a3-f08cafc8e1c2",
   "metadata": {},
   "source": [
    "Only the rows in the merged data frame where the city column matches the passed-in specified city parameter are included by the function. "
   ]
  },
  {
   "cell_type": "markdown",
   "id": "100616fa-1ddb-442e-9297-8d78b7599779",
   "metadata": {},
   "source": [
    "## Question 5"
   ]
  },
  {
   "cell_type": "markdown",
   "id": "c0ecacf7-d799-4bc1-bfd5-450a562b98c7",
   "metadata": {},
   "source": [
    "From the combined data frame, the function simply chooses and returns a copy of the designated columns. The filtered data frame's same chosen columns are returned."
   ]
  },
  {
   "cell_type": "markdown",
   "id": "5e622d76-c288-4342-b774-2ff5ea0676e8",
   "metadata": {},
   "source": [
    "## Question 6"
   ]
  },
  {
   "cell_type": "markdown",
   "id": "30a8fd2c-5e54-470b-95c1-d3c81602990b",
   "metadata": {},
   "source": [
    "Using value_counts(), the code determines which restaurant name appears the most frequently in the merged data frame's column. The most often occurring restaurant and the number of times it appears in the data frame are indicated by the values of both variables."
   ]
  },
  {
   "cell_type": "markdown",
   "id": "bb81c268-fb7f-4987-974b-e99e9c48dee8",
   "metadata": {},
   "source": [
    "## Question 7"
   ]
  },
  {
   "cell_type": "markdown",
   "id": "74b89666-29da-4306-a355-59da926e0cbf",
   "metadata": {},
   "source": [
    "The merged data frame's average_cost_for_two column is first converted to numeric values by the code. Any non-numeric entries have to be replaced by Nan, who then removes rows from this column that have missing values. After determining the highest average cost for two, the code filters the data frame to locate the restaurants that charge this much."
   ]
  },
  {
   "cell_type": "markdown",
   "id": "8f50bb5a-1854-4752-b881-f91698ddd6cd",
   "metadata": {},
   "source": [
    "## Question 8"
   ]
  },
  {
   "cell_type": "markdown",
   "id": "6cc2f5cc-a755-4052-a8a2-68cf6852470b",
   "metadata": {},
   "source": [
    "Using isnull().sum, the code determines the number of missing values, or Nan, in the merged data frame's zip code column."
   ]
  },
  {
   "cell_type": "markdown",
   "id": "2fa5fc93-6d04-451d-a59e-ef48d4fb6c9b",
   "metadata": {},
   "source": [
    "## Question 9"
   ]
  },
  {
   "cell_type": "markdown",
   "id": "277cc6fe-a842-4925-a04f-3ba280813ac1",
   "metadata": {},
   "source": [
    "In order to display the various recorded responses, the code first prints the unique values in the has_online_delivery column of the dataset. Next, it outputs the count of restaurants that accept online deliveries."
   ]
  },
  {
   "cell_type": "markdown",
   "id": "4105cf4b-03ea-49e2-b4b2-eb423d1e52aa",
   "metadata": {},
   "source": [
    "## Question 10"
   ]
  },
  {
   "cell_type": "markdown",
   "id": "59b05181-d51a-4388-acd7-316d7857daad",
   "metadata": {},
   "source": [
    "The code removes any rows with missing values from the locality or average_cost_for_two columns and changes the average_cost_for_two column in the merged_df to numeric format. The average price for two meals at each locality is then determined by creating distinct data frames for each restaurant in Poblacion and Salcedo Village, and the results are then compared. It establishes which locality has more expensive food or whether their average costs are equal based on the comparison of typical costs."
   ]
  }
 ],
 "metadata": {
  "colab": {
   "provenance": []
  },
  "kernelspec": {
   "display_name": "Python 3 (ipykernel)",
   "language": "python",
   "name": "python3"
  },
  "language_info": {
   "codemirror_mode": {
    "name": "ipython",
    "version": 3
   },
   "file_extension": ".py",
   "mimetype": "text/x-python",
   "name": "python",
   "nbconvert_exporter": "python",
   "pygments_lexer": "ipython3",
   "version": "3.12.4"
  }
 },
 "nbformat": 4,
 "nbformat_minor": 5
}
